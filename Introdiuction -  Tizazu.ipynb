{
 "cells": [
  {
   "cell_type": "code",
   "execution_count": null,
   "id": "d09b40ca",
   "metadata": {},
   "outputs": [],
   "source": [
    "My name is Selamawit Tizazu, I have Associate Degree in Secretial Sceince. I dont have IT backgroup. This is my first course of IT."
   ]
  }
 ],
 "metadata": {
  "kernelspec": {
   "display_name": "Python 3",
   "language": "python",
   "name": "python3"
  },
  "language_info": {
   "codemirror_mode": {
    "name": "ipython",
    "version": 3
   },
   "file_extension": ".py",
   "mimetype": "text/x-python",
   "name": "python",
   "nbconvert_exporter": "python",
   "pygments_lexer": "ipython3",
   "version": "3.8.8"
  }
 },
 "nbformat": 4,
 "nbformat_minor": 5
}
